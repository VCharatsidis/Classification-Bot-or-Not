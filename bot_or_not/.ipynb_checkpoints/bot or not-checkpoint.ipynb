{
 "cells": [
  {
   "cell_type": "code",
   "execution_count": 17,
   "metadata": {
    "author": [
     {
      "@type": "Person",
      "name": "bkersbergen"
     }
    ]
   },
   "outputs": [],
   "source": [
    "import pandas as pd\n",
    "import numpy as np"
   ]
  },
  {
   "cell_type": "markdown",
   "metadata": {},
   "source": [
    "# Read and explore data"
   ]
  },
  {
   "cell_type": "code",
   "execution_count": 18,
   "metadata": {},
   "outputs": [],
   "source": [
    "df = pd.read_csv('data/clickdata.csv')"
   ]
  },
  {
   "cell_type": "code",
   "execution_count": 19,
   "metadata": {},
   "outputs": [
    {
     "data": {
      "text/html": [
       "<div>\n",
       "<style scoped>\n",
       "    .dataframe tbody tr th:only-of-type {\n",
       "        vertical-align: middle;\n",
       "    }\n",
       "\n",
       "    .dataframe tbody tr th {\n",
       "        vertical-align: top;\n",
       "    }\n",
       "\n",
       "    .dataframe thead th {\n",
       "        text-align: right;\n",
       "    }\n",
       "</style>\n",
       "<table border=\"1\" class=\"dataframe\">\n",
       "  <thead>\n",
       "    <tr style=\"text-align: right;\">\n",
       "      <th></th>\n",
       "      <th>epoch_ms</th>\n",
       "      <th>session_id</th>\n",
       "      <th>country_by_ip_address</th>\n",
       "      <th>region_by_ip_address</th>\n",
       "      <th>url_without_parameters</th>\n",
       "      <th>referrer_without_parameters</th>\n",
       "      <th>visitor_recognition_type</th>\n",
       "      <th>ua_agent_class</th>\n",
       "    </tr>\n",
       "  </thead>\n",
       "  <tbody>\n",
       "    <tr>\n",
       "      <th>0</th>\n",
       "      <td>1520280001034</td>\n",
       "      <td>be73c8d1b836170a21529a1b23140f8e</td>\n",
       "      <td>US</td>\n",
       "      <td>CA</td>\n",
       "      <td>https://www.bol.com/nl/l/nederlandstalige-kuns...</td>\n",
       "      <td>NaN</td>\n",
       "      <td>ANONYMOUS</td>\n",
       "      <td>Robot</td>\n",
       "    </tr>\n",
       "    <tr>\n",
       "      <th>1</th>\n",
       "      <td>1520280001590</td>\n",
       "      <td>c24c6637ed7dcbe19ad64056184212a7</td>\n",
       "      <td>US</td>\n",
       "      <td>CA</td>\n",
       "      <td>https://www.bol.com/nl/l/italiaans-natuur-wete...</td>\n",
       "      <td>NaN</td>\n",
       "      <td>ANONYMOUS</td>\n",
       "      <td>Robot</td>\n",
       "    </tr>\n",
       "    <tr>\n",
       "      <th>2</th>\n",
       "      <td>1520280002397</td>\n",
       "      <td>ee391655f5680a7bfae0019450aed396</td>\n",
       "      <td>IT</td>\n",
       "      <td>LI</td>\n",
       "      <td>https://www.bol.com/nl/p/nespresso-magimix-ini...</td>\n",
       "      <td>https://www.bol.com/nl/p/nespresso-magimix-ini...</td>\n",
       "      <td>ANONYMOUS</td>\n",
       "      <td>Browser</td>\n",
       "    </tr>\n",
       "    <tr>\n",
       "      <th>3</th>\n",
       "      <td>1520280002598</td>\n",
       "      <td>f8c8a696dd37ca88233b2df096afa97f</td>\n",
       "      <td>US</td>\n",
       "      <td>CA</td>\n",
       "      <td>https://www.bol.com/nl/l/nieuwe-engelstalige-o...</td>\n",
       "      <td>NaN</td>\n",
       "      <td>ANONYMOUS</td>\n",
       "      <td>Robot</td>\n",
       "    </tr>\n",
       "    <tr>\n",
       "      <th>4</th>\n",
       "      <td>1520280004428</td>\n",
       "      <td>f8b0c06747b7dd1d53c0932306bd04d6</td>\n",
       "      <td>US</td>\n",
       "      <td>CA</td>\n",
       "      <td>https://www.bol.com/nl/l/nieuwe-actie-avontuur...</td>\n",
       "      <td>NaN</td>\n",
       "      <td>ANONYMOUS</td>\n",
       "      <td>Robot Mobile</td>\n",
       "    </tr>\n",
       "  </tbody>\n",
       "</table>\n",
       "</div>"
      ],
      "text/plain": [
       "        epoch_ms                        session_id country_by_ip_address  \\\n",
       "0  1520280001034  be73c8d1b836170a21529a1b23140f8e                    US   \n",
       "1  1520280001590  c24c6637ed7dcbe19ad64056184212a7                    US   \n",
       "2  1520280002397  ee391655f5680a7bfae0019450aed396                    IT   \n",
       "3  1520280002598  f8c8a696dd37ca88233b2df096afa97f                    US   \n",
       "4  1520280004428  f8b0c06747b7dd1d53c0932306bd04d6                    US   \n",
       "\n",
       "  region_by_ip_address                             url_without_parameters  \\\n",
       "0                   CA  https://www.bol.com/nl/l/nederlandstalige-kuns...   \n",
       "1                   CA  https://www.bol.com/nl/l/italiaans-natuur-wete...   \n",
       "2                   LI  https://www.bol.com/nl/p/nespresso-magimix-ini...   \n",
       "3                   CA  https://www.bol.com/nl/l/nieuwe-engelstalige-o...   \n",
       "4                   CA  https://www.bol.com/nl/l/nieuwe-actie-avontuur...   \n",
       "\n",
       "                         referrer_without_parameters visitor_recognition_type  \\\n",
       "0                                                NaN                ANONYMOUS   \n",
       "1                                                NaN                ANONYMOUS   \n",
       "2  https://www.bol.com/nl/p/nespresso-magimix-ini...                ANONYMOUS   \n",
       "3                                                NaN                ANONYMOUS   \n",
       "4                                                NaN                ANONYMOUS   \n",
       "\n",
       "  ua_agent_class  \n",
       "0          Robot  \n",
       "1          Robot  \n",
       "2        Browser  \n",
       "3          Robot  \n",
       "4   Robot Mobile  "
      ]
     },
     "execution_count": 19,
     "metadata": {},
     "output_type": "execute_result"
    }
   ],
   "source": [
    "df.head()"
   ]
  },
  {
   "cell_type": "code",
   "execution_count": 20,
   "metadata": {},
   "outputs": [
    {
     "data": {
      "text/html": [
       "<div>\n",
       "<style scoped>\n",
       "    .dataframe tbody tr th:only-of-type {\n",
       "        vertical-align: middle;\n",
       "    }\n",
       "\n",
       "    .dataframe tbody tr th {\n",
       "        vertical-align: top;\n",
       "    }\n",
       "\n",
       "    .dataframe thead th {\n",
       "        text-align: right;\n",
       "    }\n",
       "</style>\n",
       "<table border=\"1\" class=\"dataframe\">\n",
       "  <thead>\n",
       "    <tr style=\"text-align: right;\">\n",
       "      <th></th>\n",
       "      <th></th>\n",
       "      <th>epoch_ms</th>\n",
       "      <th>session_id</th>\n",
       "      <th>country_by_ip_address</th>\n",
       "      <th>region_by_ip_address</th>\n",
       "      <th>url_without_parameters</th>\n",
       "      <th>referrer_without_parameters</th>\n",
       "    </tr>\n",
       "    <tr>\n",
       "      <th>ua_agent_class</th>\n",
       "      <th>visitor_recognition_type</th>\n",
       "      <th></th>\n",
       "      <th></th>\n",
       "      <th></th>\n",
       "      <th></th>\n",
       "      <th></th>\n",
       "      <th></th>\n",
       "    </tr>\n",
       "  </thead>\n",
       "  <tbody>\n",
       "    <tr>\n",
       "      <th rowspan=\"3\" valign=\"top\">Browser</th>\n",
       "      <th>ANONYMOUS</th>\n",
       "      <td>20390</td>\n",
       "      <td>20390</td>\n",
       "      <td>20151</td>\n",
       "      <td>13918</td>\n",
       "      <td>20390</td>\n",
       "      <td>6823</td>\n",
       "    </tr>\n",
       "    <tr>\n",
       "      <th>LOGGEDIN</th>\n",
       "      <td>3076</td>\n",
       "      <td>3076</td>\n",
       "      <td>3074</td>\n",
       "      <td>2556</td>\n",
       "      <td>3076</td>\n",
       "      <td>1677</td>\n",
       "    </tr>\n",
       "    <tr>\n",
       "      <th>RECOGNIZED</th>\n",
       "      <td>12043</td>\n",
       "      <td>12043</td>\n",
       "      <td>12038</td>\n",
       "      <td>10193</td>\n",
       "      <td>12043</td>\n",
       "      <td>5872</td>\n",
       "    </tr>\n",
       "    <tr>\n",
       "      <th rowspan=\"3\" valign=\"top\">Browser Webview</th>\n",
       "      <th>ANONYMOUS</th>\n",
       "      <td>849</td>\n",
       "      <td>849</td>\n",
       "      <td>849</td>\n",
       "      <td>707</td>\n",
       "      <td>849</td>\n",
       "      <td>307</td>\n",
       "    </tr>\n",
       "    <tr>\n",
       "      <th>LOGGEDIN</th>\n",
       "      <td>406</td>\n",
       "      <td>406</td>\n",
       "      <td>406</td>\n",
       "      <td>287</td>\n",
       "      <td>406</td>\n",
       "      <td>82</td>\n",
       "    </tr>\n",
       "    <tr>\n",
       "      <th>RECOGNIZED</th>\n",
       "      <td>545</td>\n",
       "      <td>545</td>\n",
       "      <td>545</td>\n",
       "      <td>460</td>\n",
       "      <td>545</td>\n",
       "      <td>203</td>\n",
       "    </tr>\n",
       "    <tr>\n",
       "      <th>Cloud Application</th>\n",
       "      <th>ANONYMOUS</th>\n",
       "      <td>2</td>\n",
       "      <td>2</td>\n",
       "      <td>2</td>\n",
       "      <td>2</td>\n",
       "      <td>2</td>\n",
       "      <td>0</td>\n",
       "    </tr>\n",
       "    <tr>\n",
       "      <th rowspan=\"2\" valign=\"top\">Hacker</th>\n",
       "      <th>ANONYMOUS</th>\n",
       "      <td>1176</td>\n",
       "      <td>1176</td>\n",
       "      <td>1176</td>\n",
       "      <td>689</td>\n",
       "      <td>1176</td>\n",
       "      <td>0</td>\n",
       "    </tr>\n",
       "    <tr>\n",
       "      <th>RECOGNIZED</th>\n",
       "      <td>1</td>\n",
       "      <td>1</td>\n",
       "      <td>1</td>\n",
       "      <td>1</td>\n",
       "      <td>1</td>\n",
       "      <td>0</td>\n",
       "    </tr>\n",
       "    <tr>\n",
       "      <th>Mobile App</th>\n",
       "      <th>ANONYMOUS</th>\n",
       "      <td>9</td>\n",
       "      <td>9</td>\n",
       "      <td>9</td>\n",
       "      <td>4</td>\n",
       "      <td>9</td>\n",
       "      <td>6</td>\n",
       "    </tr>\n",
       "    <tr>\n",
       "      <th>Robot</th>\n",
       "      <th>ANONYMOUS</th>\n",
       "      <td>16026</td>\n",
       "      <td>16026</td>\n",
       "      <td>16024</td>\n",
       "      <td>15852</td>\n",
       "      <td>16026</td>\n",
       "      <td>34</td>\n",
       "    </tr>\n",
       "    <tr>\n",
       "      <th>Robot Mobile</th>\n",
       "      <th>ANONYMOUS</th>\n",
       "      <td>5115</td>\n",
       "      <td>5115</td>\n",
       "      <td>5115</td>\n",
       "      <td>5115</td>\n",
       "      <td>5115</td>\n",
       "      <td>0</td>\n",
       "    </tr>\n",
       "    <tr>\n",
       "      <th>Special</th>\n",
       "      <th>ANONYMOUS</th>\n",
       "      <td>144</td>\n",
       "      <td>144</td>\n",
       "      <td>144</td>\n",
       "      <td>102</td>\n",
       "      <td>144</td>\n",
       "      <td>0</td>\n",
       "    </tr>\n",
       "  </tbody>\n",
       "</table>\n",
       "</div>"
      ],
      "text/plain": [
       "                                            epoch_ms  session_id  \\\n",
       "ua_agent_class    visitor_recognition_type                         \n",
       "Browser           ANONYMOUS                    20390       20390   \n",
       "                  LOGGEDIN                      3076        3076   \n",
       "                  RECOGNIZED                   12043       12043   \n",
       "Browser Webview   ANONYMOUS                      849         849   \n",
       "                  LOGGEDIN                       406         406   \n",
       "                  RECOGNIZED                     545         545   \n",
       "Cloud Application ANONYMOUS                        2           2   \n",
       "Hacker            ANONYMOUS                     1176        1176   \n",
       "                  RECOGNIZED                       1           1   \n",
       "Mobile App        ANONYMOUS                        9           9   \n",
       "Robot             ANONYMOUS                    16026       16026   \n",
       "Robot Mobile      ANONYMOUS                     5115        5115   \n",
       "Special           ANONYMOUS                      144         144   \n",
       "\n",
       "                                            country_by_ip_address  \\\n",
       "ua_agent_class    visitor_recognition_type                          \n",
       "Browser           ANONYMOUS                                 20151   \n",
       "                  LOGGEDIN                                   3074   \n",
       "                  RECOGNIZED                                12038   \n",
       "Browser Webview   ANONYMOUS                                   849   \n",
       "                  LOGGEDIN                                    406   \n",
       "                  RECOGNIZED                                  545   \n",
       "Cloud Application ANONYMOUS                                     2   \n",
       "Hacker            ANONYMOUS                                  1176   \n",
       "                  RECOGNIZED                                    1   \n",
       "Mobile App        ANONYMOUS                                     9   \n",
       "Robot             ANONYMOUS                                 16024   \n",
       "Robot Mobile      ANONYMOUS                                  5115   \n",
       "Special           ANONYMOUS                                   144   \n",
       "\n",
       "                                            region_by_ip_address  \\\n",
       "ua_agent_class    visitor_recognition_type                         \n",
       "Browser           ANONYMOUS                                13918   \n",
       "                  LOGGEDIN                                  2556   \n",
       "                  RECOGNIZED                               10193   \n",
       "Browser Webview   ANONYMOUS                                  707   \n",
       "                  LOGGEDIN                                   287   \n",
       "                  RECOGNIZED                                 460   \n",
       "Cloud Application ANONYMOUS                                    2   \n",
       "Hacker            ANONYMOUS                                  689   \n",
       "                  RECOGNIZED                                   1   \n",
       "Mobile App        ANONYMOUS                                    4   \n",
       "Robot             ANONYMOUS                                15852   \n",
       "Robot Mobile      ANONYMOUS                                 5115   \n",
       "Special           ANONYMOUS                                  102   \n",
       "\n",
       "                                            url_without_parameters  \\\n",
       "ua_agent_class    visitor_recognition_type                           \n",
       "Browser           ANONYMOUS                                  20390   \n",
       "                  LOGGEDIN                                    3076   \n",
       "                  RECOGNIZED                                 12043   \n",
       "Browser Webview   ANONYMOUS                                    849   \n",
       "                  LOGGEDIN                                     406   \n",
       "                  RECOGNIZED                                   545   \n",
       "Cloud Application ANONYMOUS                                      2   \n",
       "Hacker            ANONYMOUS                                   1176   \n",
       "                  RECOGNIZED                                     1   \n",
       "Mobile App        ANONYMOUS                                      9   \n",
       "Robot             ANONYMOUS                                  16026   \n",
       "Robot Mobile      ANONYMOUS                                   5115   \n",
       "Special           ANONYMOUS                                    144   \n",
       "\n",
       "                                            referrer_without_parameters  \n",
       "ua_agent_class    visitor_recognition_type                               \n",
       "Browser           ANONYMOUS                                        6823  \n",
       "                  LOGGEDIN                                         1677  \n",
       "                  RECOGNIZED                                       5872  \n",
       "Browser Webview   ANONYMOUS                                         307  \n",
       "                  LOGGEDIN                                           82  \n",
       "                  RECOGNIZED                                        203  \n",
       "Cloud Application ANONYMOUS                                           0  \n",
       "Hacker            ANONYMOUS                                           0  \n",
       "                  RECOGNIZED                                          0  \n",
       "Mobile App        ANONYMOUS                                           6  \n",
       "Robot             ANONYMOUS                                          34  \n",
       "Robot Mobile      ANONYMOUS                                           0  \n",
       "Special           ANONYMOUS                                           0  "
      ]
     },
     "execution_count": 20,
     "metadata": {},
     "output_type": "execute_result"
    }
   ],
   "source": [
    "df.groupby(['ua_agent_class', 'visitor_recognition_type']).count()"
   ]
  },
  {
   "cell_type": "markdown",
   "metadata": {},
   "source": [
    "Each row in 'df' contains a page request in a session.\n",
    "\n",
    "CSV column definitions:\n",
    "* epoch_ms: epoch in milliseconds\n",
    "* session_id: session identifier\n",
    "* country_by_ip_address: estimated country based on GeoIP lookup\n",
    "* region_by_ip_address: estimated region based on GeoIP lookup\n",
    "* url_without_parameters: \n",
    "* referrer_without_parameters: \n",
    "* visitor_recognition_type: ANONYMOUS, RECOGNIZED (by cookie) or LOGGEDIN\n",
    "* ua_agent_class: the class label"
   ]
  },
  {
   "cell_type": "code",
   "execution_count": 21,
   "metadata": {},
   "outputs": [],
   "source": [
    "# clean up different types of missing values\n",
    "df = df.replace(np.nan, '', regex=True)\n",
    "df = df.replace('Unknown', '', regex=True)"
   ]
  },
  {
   "cell_type": "code",
   "execution_count": 22,
   "metadata": {},
   "outputs": [
    {
     "data": {
      "text/plain": [
       "array(['ANONYMOUS', 'LOGGEDIN', 'RECOGNIZED'], dtype=object)"
      ]
     },
     "execution_count": 22,
     "metadata": {},
     "output_type": "execute_result"
    }
   ],
   "source": [
    "# lets look at some of the columns\n",
    "df['visitor_recognition_type'].unique()"
   ]
  },
  {
   "cell_type": "code",
   "execution_count": 23,
   "metadata": {},
   "outputs": [
    {
     "data": {
      "text/plain": [
       "array(['US', 'IT', 'NL', 'BE', '', 'UA', 'FR', 'DE', 'PL', 'CN', 'IE',\n",
       "       'RU', 'GB', 'AT', 'HU', 'JP', 'CA', 'PT', 'ES', 'CH', 'LT', 'ID',\n",
       "       'IN', 'TR', 'IR', 'MY', 'NZ', 'AU', 'TH', 'BD', 'QA', 'CZ', 'VN',\n",
       "       'MN', 'IL', 'FI', 'AM', 'DK', 'SR', 'GR', 'SE', 'LV', 'PK', 'LU',\n",
       "       'MA', 'MD', 'BG', 'BR', 'HR', 'AR', 'AL', 'MK', 'GH', 'PY', 'NO',\n",
       "       'RO', 'BO', 'ZA', 'SO', 'MC', 'MX', 'KR', 'DO', 'CW', 'SK', 'KG'],\n",
       "      dtype=object)"
      ]
     },
     "execution_count": 23,
     "metadata": {},
     "output_type": "execute_result"
    }
   ],
   "source": [
    "df['country_by_ip_address'].unique()"
   ]
  },
  {
   "cell_type": "code",
   "execution_count": 24,
   "metadata": {},
   "outputs": [
    {
     "name": "stdout",
     "output_type": "stream",
     "text": [
      "['Robot' 'Browser' 'Robot Mobile' 'Browser Webview' 'Hacker' 'Special'\n",
      " 'Mobile App' 'Cloud Application']\n"
     ]
    }
   ],
   "source": [
    "# Interesting values are 'Robot' and 'Browser' (not a robot)\n",
    "print(df['ua_agent_class'].unique())"
   ]
  },
  {
   "cell_type": "code",
   "execution_count": 25,
   "metadata": {},
   "outputs": [
    {
     "name": "stdout",
     "output_type": "stream",
     "text": [
      "['Robot' 'Browser' 'Hacker' 'Special' 'Mobile App' 'Cloud Application']\n"
     ]
    }
   ],
   "source": [
    "# Reduce the amount of detail in classes\n",
    "# Merge all different Human types\n",
    "df['ua_agent_class'] = df['ua_agent_class'].str.replace('Browser Webview','Browser')\n",
    "# Merge all different 'non hunam' types\n",
    "df['ua_agent_class'] = df['ua_agent_class'].str.replace('Robot Mobile','Robot')\n",
    "print(df['ua_agent_class'].unique())"
   ]
  },
  {
   "cell_type": "markdown",
   "metadata": {},
   "source": [
    "# Train a model"
   ]
  },
  {
   "cell_type": "code",
   "execution_count": 26,
   "metadata": {},
   "outputs": [
    {
     "name": "stdout",
     "output_type": "stream",
     "text": [
      "44778\n",
      "2\n",
      "['Unknown' 'ref']\n"
     ]
    }
   ],
   "source": [
    "import pandas as pd\n",
    "# select a few columns and transform them into features\n",
    "df['referrer_without_parameters'] = df['referrer_without_parameters'].str.replace('^(?![\\s\\S])', 'Unknown', regex=True)\n",
    "\n",
    "filter = df[\"referrer_without_parameters\"]==\"Unknown\"\n",
    "print(len(df.where(filter).dropna()))\n",
    "df.groupby(['referrer_without_parameters']).count()\n",
    "\n",
    "df['referrer_without_parameters'] = df['referrer_without_parameters'].str.replace('^(?!Unknown).*$','ref', regex=True)\n",
    "print(len(df['referrer_without_parameters'].unique()))\n",
    "print(df['referrer_without_parameters'].unique())\n",
    "\n",
    "X = pd.get_dummies(data=df[['country_by_ip_address', 'region_by_ip_address','url_without_parameters','referrer_without_parameters','visitor_recognition_type']], drop_first=True)\n",
    "y = df['ua_agent_class']"
   ]
  },
  {
   "cell_type": "code",
   "execution_count": 27,
   "metadata": {},
   "outputs": [],
   "source": [
    "# naively split the data and train a model\n",
    "from sklearn.model_selection import train_test_split\n",
    "X_train, X_test, y_train, y_test = train_test_split(X, y, train_size=0.6, test_size=0.25, random_state=42)"
   ]
  },
  {
   "cell_type": "code",
   "execution_count": 28,
   "metadata": {},
   "outputs": [],
   "source": [
    "from sklearn.neighbors import KNeighborsClassifier\n",
    "from sklearn.svm import LinearSVC as SVC\n",
    "from sklearn import svm\n",
    "from sklearn.ensemble import RandomForestClassifier\n",
    "\n",
    "my_classifier = RandomForestClassifier(n_estimators=100)\n",
    "\n",
    "# pick an existing classifier algorithm\n",
    "#my_classifier = RandomForestClassifier(n_estimators=100) # 0.9707614077345109 URL train size 0.4.\n",
    "#my_classifier = RandomForestClassifier(n_estimators=100) # 0.9729024488157366 URL train size 0.6.\n",
    "#my_classifier = RandomForestClassifier(n_estimators=100) # 0.9729024488157366 URL and REFERRER train size 0.6.\n",
    "#my_classifier = RandomForestClassifier(n_estimators=50) # 0.9746420446942325 URL and REFERRER and substituting all except Unknown with ref train size 0.6.\n",
    "#my_classifier = RandomForestClassifier(n_estimators=100) # 0.9747089522280209 URL and REFERRER and substituting all except Unknown with ref train size 0.6.\n",
    "\n",
    "#my_classifier = SVC() # 0.9687541817208618\n",
    "#my_classifier = SVC() # 0.9727017262143718 using URL and train size 0.6 \n",
    "#my_classifier = SVC() # 0.97276863374816 using URL and REFERRER and train size 0.6\n",
    "#my_classifier = SVC() # 0.9740398768901378 using URL and REFERRER and and substituting all except Unknown with ref and train size 0.6\n",
    "\n",
    "#my_classifier = svm.SVC(kernel='rbf') #0.965\n",
    "#my_classifier = svm.SVC(kernel='rbf') #using URL too slow, stoped.\n",
    "\n",
    "#my_classifier = KNeighborsClassifier(n_jobs=-1) # 0.9682858289843437\n",
    "#my_classifier = KNeighborsClassifier(n_jobs=-1) # using URL too slow, stoped.\n",
    "#my_classifier = KNeighborsClassifier(n_neighbors=20, n_jobs=-1) # 0.968152013916767\n",
    "\n",
    "\n"
   ]
  },
  {
   "cell_type": "code",
   "execution_count": 29,
   "metadata": {},
   "outputs": [
    {
     "data": {
      "text/plain": [
       "RandomForestClassifier(bootstrap=True, class_weight=None, criterion='gini',\n",
       "            max_depth=None, max_features='auto', max_leaf_nodes=None,\n",
       "            min_impurity_decrease=0.0, min_impurity_split=None,\n",
       "            min_samples_leaf=1, min_samples_split=2,\n",
       "            min_weight_fraction_leaf=0.0, n_estimators=100, n_jobs=1,\n",
       "            oob_score=False, random_state=None, verbose=0,\n",
       "            warm_start=False)"
      ]
     },
     "execution_count": 29,
     "metadata": {},
     "output_type": "execute_result"
    }
   ],
   "source": [
    "my_classifier.fit(X_train, y_train)"
   ]
  },
  {
   "cell_type": "markdown",
   "metadata": {},
   "source": [
    "# Evaluate the model"
   ]
  },
  {
   "cell_type": "code",
   "execution_count": 30,
   "metadata": {},
   "outputs": [
    {
     "data": {
      "text/plain": [
       "0.9747089522280209"
      ]
     },
     "execution_count": 30,
     "metadata": {},
     "output_type": "execute_result"
    }
   ],
   "source": [
    "# model score\n",
    "my_classifier.score(X_test, y_test)"
   ]
  },
  {
   "cell_type": "code",
   "execution_count": 31,
   "metadata": {},
   "outputs": [
    {
     "data": {
      "text/plain": [
       "array([[9306,    0,    0,   41,    0],\n",
       "       [ 118,   40,    0,  170,    0],\n",
       "       [   3,    0,    0,    0,    0],\n",
       "       [  20,    0,    0, 5219,    0],\n",
       "       [  19,    0,    0,    7,    3]], dtype=int64)"
      ]
     },
     "execution_count": 31,
     "metadata": {},
     "output_type": "execute_result"
    }
   ],
   "source": [
    "from sklearn.metrics import confusion_matrix\n",
    "y_pred = my_classifier.predict(X_test)\n",
    "confusion_matrix(y_test, y_pred)"
   ]
  },
  {
   "cell_type": "markdown",
   "metadata": {},
   "source": [
    "# Predict a single element"
   ]
  },
  {
   "cell_type": "code",
   "execution_count": 32,
   "metadata": {},
   "outputs": [
    {
     "name": "stdout",
     "output_type": "stream",
     "text": [
      "Robot\n",
      "Robot\n"
     ]
    }
   ],
   "source": [
    "# predict an individual data record\n",
    "y_pred = my_classifier.predict([X_test.iloc[42]])[0]\n",
    "y_real = y_test.iloc[42]\n",
    "print(y_pred)\n",
    "print(y_real)"
   ]
  },
  {
   "cell_type": "code",
   "execution_count": null,
   "metadata": {},
   "outputs": [],
   "source": []
  },
  {
   "cell_type": "code",
   "execution_count": null,
   "metadata": {},
   "outputs": [],
   "source": []
  },
  {
   "cell_type": "code",
   "execution_count": null,
   "metadata": {},
   "outputs": [],
   "source": []
  },
  {
   "cell_type": "code",
   "execution_count": null,
   "metadata": {},
   "outputs": [],
   "source": []
  }
 ],
 "metadata": {
  "kernelspec": {
   "display_name": "Python 3",
   "language": "python",
   "name": "python3"
  },
  "language_info": {
   "codemirror_mode": {
    "name": "ipython",
    "version": 3
   },
   "file_extension": ".py",
   "mimetype": "text/x-python",
   "name": "python",
   "nbconvert_exporter": "python",
   "pygments_lexer": "ipython3",
   "version": "3.7.0"
  }
 },
 "nbformat": 4,
 "nbformat_minor": 2
}
